{
 "cells": [
  {
   "cell_type": "markdown",
   "id": "5194e07b",
   "metadata": {},
   "source": [
    "# Importing Packages"
   ]
  },
  {
   "cell_type": "code",
   "execution_count": 1,
   "id": "c4e1e3a2",
   "metadata": {},
   "outputs": [],
   "source": [
    "import numpy as np\n",
    "import matplotlib.pyplot as plt\n",
    "import seaborn as sns\n",
    "import pandas as pd\n",
    "import plotly.express as px"
   ]
  },
  {
   "cell_type": "markdown",
   "id": "b1185a99",
   "metadata": {},
   "source": [
    "# Data Preparation and Preprocessing"
   ]
  },
  {
   "cell_type": "code",
   "execution_count": 2,
   "id": "4a528d5b",
   "metadata": {},
   "outputs": [],
   "source": [
    " df=pd.read_csv(r\"C:\\Users\\Arigala.Adarsh\\Downloads\\User_Data.csv\")"
   ]
  },
  {
   "cell_type": "code",
   "execution_count": 3,
   "id": "ba98e128",
   "metadata": {},
   "outputs": [
    {
     "data": {
      "text/html": [
       "<div>\n",
       "<style scoped>\n",
       "    .dataframe tbody tr th:only-of-type {\n",
       "        vertical-align: middle;\n",
       "    }\n",
       "\n",
       "    .dataframe tbody tr th {\n",
       "        vertical-align: top;\n",
       "    }\n",
       "\n",
       "    .dataframe thead th {\n",
       "        text-align: right;\n",
       "    }\n",
       "</style>\n",
       "<table border=\"1\" class=\"dataframe\">\n",
       "  <thead>\n",
       "    <tr style=\"text-align: right;\">\n",
       "      <th></th>\n",
       "      <th>User ID</th>\n",
       "      <th>Gender</th>\n",
       "      <th>Age</th>\n",
       "      <th>EstimatedSalary</th>\n",
       "      <th>Purchased</th>\n",
       "    </tr>\n",
       "  </thead>\n",
       "  <tbody>\n",
       "    <tr>\n",
       "      <th>0</th>\n",
       "      <td>15624510</td>\n",
       "      <td>Male</td>\n",
       "      <td>19</td>\n",
       "      <td>19000</td>\n",
       "      <td>0</td>\n",
       "    </tr>\n",
       "    <tr>\n",
       "      <th>1</th>\n",
       "      <td>15810944</td>\n",
       "      <td>Male</td>\n",
       "      <td>35</td>\n",
       "      <td>20000</td>\n",
       "      <td>0</td>\n",
       "    </tr>\n",
       "    <tr>\n",
       "      <th>2</th>\n",
       "      <td>15668575</td>\n",
       "      <td>Female</td>\n",
       "      <td>26</td>\n",
       "      <td>43000</td>\n",
       "      <td>0</td>\n",
       "    </tr>\n",
       "    <tr>\n",
       "      <th>3</th>\n",
       "      <td>15603246</td>\n",
       "      <td>Female</td>\n",
       "      <td>27</td>\n",
       "      <td>57000</td>\n",
       "      <td>0</td>\n",
       "    </tr>\n",
       "    <tr>\n",
       "      <th>4</th>\n",
       "      <td>15804002</td>\n",
       "      <td>Male</td>\n",
       "      <td>19</td>\n",
       "      <td>76000</td>\n",
       "      <td>0</td>\n",
       "    </tr>\n",
       "  </tbody>\n",
       "</table>\n",
       "</div>"
      ],
      "text/plain": [
       "    User ID  Gender  Age  EstimatedSalary  Purchased\n",
       "0  15624510    Male   19            19000          0\n",
       "1  15810944    Male   35            20000          0\n",
       "2  15668575  Female   26            43000          0\n",
       "3  15603246  Female   27            57000          0\n",
       "4  15804002    Male   19            76000          0"
      ]
     },
     "execution_count": 3,
     "metadata": {},
     "output_type": "execute_result"
    }
   ],
   "source": [
    " df.head()"
   ]
  },
  {
   "cell_type": "code",
   "execution_count": 4,
   "id": "848a55fd",
   "metadata": {},
   "outputs": [
    {
     "name": "stdout",
     "output_type": "stream",
     "text": [
      "<class 'pandas.core.frame.DataFrame'>\n",
      "RangeIndex: 400 entries, 0 to 399\n",
      "Data columns (total 5 columns):\n",
      " #   Column           Non-Null Count  Dtype \n",
      "---  ------           --------------  ----- \n",
      " 0   User ID          400 non-null    int64 \n",
      " 1   Gender           400 non-null    object\n",
      " 2   Age              400 non-null    int64 \n",
      " 3   EstimatedSalary  400 non-null    int64 \n",
      " 4   Purchased        400 non-null    int64 \n",
      "dtypes: int64(4), object(1)\n",
      "memory usage: 15.8+ KB\n"
     ]
    }
   ],
   "source": [
    " df.info()"
   ]
  },
  {
   "cell_type": "code",
   "execution_count": 5,
   "id": "c5facef5",
   "metadata": {},
   "outputs": [
    {
     "data": {
      "text/plain": [
       "Index(['User ID', 'Gender', 'Age', 'EstimatedSalary', 'Purchased'], dtype='object')"
      ]
     },
     "execution_count": 5,
     "metadata": {},
     "output_type": "execute_result"
    }
   ],
   "source": [
    " df.columns"
   ]
  },
  {
   "cell_type": "code",
   "execution_count": 6,
   "id": "9784b135",
   "metadata": {},
   "outputs": [
    {
     "data": {
      "text/plain": [
       "(400, 5)"
      ]
     },
     "execution_count": 6,
     "metadata": {},
     "output_type": "execute_result"
    }
   ],
   "source": [
    " df.shape"
   ]
  },
  {
   "cell_type": "code",
   "execution_count": 7,
   "id": "8f04e1d0",
   "metadata": {},
   "outputs": [
    {
     "data": {
      "text/plain": [
       "User ID            0\n",
       "Gender             0\n",
       "Age                0\n",
       "EstimatedSalary    0\n",
       "Purchased          0\n",
       "dtype: int64"
      ]
     },
     "execution_count": 7,
     "metadata": {},
     "output_type": "execute_result"
    }
   ],
   "source": [
    " df.isnull().sum()"
   ]
  },
  {
   "cell_type": "code",
   "execution_count": 8,
   "id": "1d4728d6",
   "metadata": {},
   "outputs": [
    {
     "data": {
      "text/plain": [
       "array(['Male', 'Female'], dtype=object)"
      ]
     },
     "execution_count": 8,
     "metadata": {},
     "output_type": "execute_result"
    }
   ],
   "source": [
    " df['Gender'].unique()"
   ]
  },
  {
   "cell_type": "code",
   "execution_count": 9,
   "id": "7a6f197a",
   "metadata": {},
   "outputs": [
    {
     "data": {
      "text/plain": [
       "<AxesSubplot:xlabel='Gender', ylabel='count'>"
      ]
     },
     "execution_count": 9,
     "metadata": {},
     "output_type": "execute_result"
    },
    {
     "data": {
      "image/png": "[encoded data removed]",
      "text/plain": [
       "<Figure size 640x480 with 1 Axes>"
      ]
     },
     "metadata": {},
     "output_type": "display_data"
    }
   ],
   "source": [
    " sns.countplot(x=df.Gender,data=df)"
   ]
  },
  {
   "cell_type": "code",
   "execution_count": 10,
   "id": "a936e9e0",
   "metadata": {},
   "outputs": [
    {
     "data": {
      "text/plain": [
       "array([19, 35, 26, 27, 32, 25, 20, 18, 29, 47, 45, 46, 48, 49, 31, 21, 28,\n",
       "       33, 30, 23, 24, 22, 59, 34, 39, 38, 37, 42, 40, 36, 41, 58, 55, 52,\n",
       "       60, 56, 53, 50, 51, 57, 44, 43, 54], dtype=int64)"
      ]
     },
     "execution_count": 10,
     "metadata": {},
     "output_type": "execute_result"
    }
   ],
   "source": [
    "df.Age.unique()"
   ]
  },
  {
   "cell_type": "code",
   "execution_count": 11,
   "id": "4048fd06",
   "metadata": {},
   "outputs": [
    {
     "data": {
      "text/plain": [
       "<AxesSubplot:xlabel='Purchased', ylabel='count'>"
      ]
     },
     "execution_count": 11,
     "metadata": {},
     "output_type": "execute_result"
    },
    {
     "data": {
      "image/png": "[encoded data removed]",
      "text/plain": [
       "<Figure size 640x480 with 1 Axes>"
      ]
     },
     "metadata": {},
     "output_type": "display_data"
    }
   ],
   "source": [
    "sns.countplot(x=df.Purchased,data=df)"
   ]
  },
  {
   "cell_type": "markdown",
   "id": "c9ca5e86",
   "metadata": {},
   "source": [
    "# Segreation of data(Independent and Dependent)"
   ]
  },
  {
   "cell_type": "code",
   "execution_count": 12,
   "id": "4a50cc09",
   "metadata": {},
   "outputs": [],
   "source": [
    "x=df.iloc[:,[2,3]]\n",
    "y=df.iloc[:,4]"
   ]
  },
  {
   "cell_type": "code",
   "execution_count": 13,
   "id": "53d70e9e",
   "metadata": {},
   "outputs": [
    {
     "name": "stdout",
     "output_type": "stream",
     "text": [
      "     Age  EstimatedSalary\n",
      "0     19            19000\n",
      "1     35            20000\n",
      "2     26            43000\n",
      "3     27            57000\n",
      "4     19            76000\n",
      "..   ...              ...\n",
      "395   46            41000\n",
      "396   51            23000\n",
      "397   50            20000\n",
      "398   36            33000\n",
      "399   49            36000\n",
      "\n",
      "[400 rows x 2 columns]\n"
     ]
    }
   ],
   "source": [
    "print(x)\n"
   ]
  },
  {
   "cell_type": "code",
   "execution_count": 14,
   "id": "fcd8558a",
   "metadata": {},
   "outputs": [
    {
     "name": "stdout",
     "output_type": "stream",
     "text": [
      "0      0\n",
      "1      0\n",
      "2      0\n",
      "3      0\n",
      "4      0\n",
      "      ..\n",
      "395    1\n",
      "396    1\n",
      "397    1\n",
      "398    0\n",
      "399    1\n",
      "Name: Purchased, Length: 400, dtype: int64\n"
     ]
    }
   ],
   "source": [
    "print(y)"
   ]
  },
  {
   "cell_type": "markdown",
   "id": "fce11a2e",
   "metadata": {},
   "source": [
    "# Splitting the data into Train and Test Dataset"
   ]
  },
  {
   "cell_type": "code",
   "execution_count": 15,
   "id": "9b03625c",
   "metadata": {},
   "outputs": [],
   "source": [
    "from sklearn.model_selection import train_test_split  \n",
    "x_train, x_test, y_train, y_test = train_test_split(x, y, test_size = 0.20, random_state = 0) "
   ]
  },
  {
   "cell_type": "code",
   "execution_count": 16,
   "id": "0d05b0aa",
   "metadata": {},
   "outputs": [],
   "source": [
    "from sklearn.preprocessing import StandardScaler  \n",
    "sc = StandardScaler()  \n",
    "x_train = sc.fit_transform(x_train)  \n",
    "x_test = sc.transform(x_test)  "
   ]
  },
  {
   "cell_type": "code",
   "execution_count": 17,
   "id": "5467a55e",
   "metadata": {},
   "outputs": [
    {
     "name": "stdout",
     "output_type": "stream",
     "text": [
      "[[ 1.92295008e+00  2.14601566e+00]\n",
      " [ 2.02016082e+00  3.78719297e-01]\n",
      " [-1.38221530e+00 -4.32498705e-01]\n",
      " [-1.18779381e+00 -1.01194013e+00]\n",
      " [ 1.92295008e+00 -9.25023920e-01]\n",
      " [ 3.67578135e-01  2.91803083e-01]\n",
      " [ 1.73156642e-01  1.46942725e-01]\n",
      " [ 2.02016082e+00  1.74040666e+00]\n",
      " [ 7.56421121e-01 -8.38107706e-01]\n",
      " [ 2.70367388e-01 -2.87638347e-01]\n",
      " [ 3.67578135e-01 -1.71750061e-01]\n",
      " [-1.18475597e-01  2.20395980e+00]\n",
      " [-1.47942605e+00 -6.35303205e-01]\n",
      " [-1.28500455e+00 -1.06988428e+00]\n",
      " [-1.38221530e+00  4.07691369e-01]\n",
      " [-1.09058306e+00  7.55356227e-01]\n",
      " [-1.47942605e+00 -2.00722133e-01]\n",
      " [ 9.50842613e-01 -1.06988428e+00]\n",
      " [ 9.50842613e-01  5.81523798e-01]\n",
      " [ 3.67578135e-01  9.87132798e-01]\n",
      " [ 5.61999628e-01 -8.96051849e-01]\n",
      " [-6.04529329e-01  1.45068594e+00]\n",
      " [-2.12648508e-02 -5.77359062e-01]\n",
      " [-6.04529329e-01  1.88526701e+00]\n",
      " [ 1.33968560e+00 -1.41754914e+00]\n",
      " [ 1.43689635e+00  9.87132798e-01]\n",
      " [ 7.59458956e-02 -8.09135634e-01]\n",
      " [-2.12648508e-02 -2.58666276e-01]\n",
      " [-2.15686344e-01 -5.77359062e-01]\n",
      " [-2.15686344e-01 -2.00722133e-01]\n",
      " [-3.12897090e-01 -1.30166085e+00]\n",
      " [-3.12897090e-01 -5.77359062e-01]\n",
      " [ 3.67578135e-01  8.89985821e-02]\n",
      " [ 8.53631867e-01 -6.06331134e-01]\n",
      " [ 2.02016082e+00 -1.18577256e+00]\n",
      " [ 1.04805336e+00 -1.42777990e-01]\n",
      " [ 6.59210374e-01  1.76937873e+00]\n",
      " [-7.01740076e-01  5.52551726e-01]\n",
      " [ 7.56421121e-01  3.49747226e-01]\n",
      " [ 8.53631867e-01 -5.48386991e-01]\n",
      " [-1.18779381e+00 -1.59138156e+00]\n",
      " [ 2.11737157e+00  9.29188655e-01]\n",
      " [-2.12648508e-02  1.21890937e+00]\n",
      " [ 1.73156642e-01  1.07404901e+00]\n",
      " [ 3.67578135e-01 -4.90442848e-01]\n",
      " [-3.12897090e-01 -3.16610419e-01]\n",
      " [ 9.50842613e-01 -8.38107706e-01]\n",
      " [ 9.50842613e-01  1.85629494e+00]\n",
      " [-2.12648508e-02  1.24788144e+00]\n",
      " [-8.96161568e-01  2.26190394e+00]\n",
      " [-1.18779381e+00 -1.59138156e+00]\n",
      " [ 2.11737157e+00 -8.09135634e-01]\n",
      " [-1.38221530e+00 -1.47549328e+00]\n",
      " [ 3.67578135e-01  2.29087602e+00]\n",
      " [ 7.56421121e-01  7.55356227e-01]\n",
      " [-9.93372315e-01 -3.16610419e-01]\n",
      " [ 7.59458956e-02  7.55356227e-01]\n",
      " [-9.93372315e-01  5.52551726e-01]\n",
      " [ 2.70367388e-01  6.00265106e-02]\n",
      " [ 6.59210374e-01 -1.27268878e+00]\n",
      " [-5.07318583e-01 -2.68897039e-02]\n",
      " [-1.77105829e+00  3.49747226e-01]\n",
      " [-7.01740076e-01  1.17970654e-01]\n",
      " [ 3.67578135e-01  2.91803083e-01]\n",
      " [-3.12897090e-01  6.00265106e-02]\n",
      " [-5.07318583e-01  2.29087602e+00]\n",
      " [ 1.73156642e-01  3.10544391e-02]\n",
      " [ 1.24247485e+00  2.20395980e+00]\n",
      " [ 7.56421121e-01  2.62831011e-01]\n",
      " [-3.12897090e-01  1.46942725e-01]\n",
      " [-2.12648508e-02 -5.48386991e-01]\n",
      " [-2.15686344e-01  1.46942725e-01]\n",
      " [-1.18475597e-01  2.33858940e-01]\n",
      " [-2.12648508e-02 -2.58666276e-01]\n",
      " [ 2.11737157e+00  1.10302108e+00]\n",
      " [-1.77105829e+00  3.49747226e-01]\n",
      " [ 1.82573933e+00  1.17970654e-01]\n",
      " [ 3.67578135e-01 -1.42777990e-01]\n",
      " [-1.18779381e+00  2.91803083e-01]\n",
      " [ 7.56421121e-01  1.36376973e+00]\n",
      " [-3.12897090e-01 -2.58666276e-01]\n",
      " [-1.67384754e+00 -5.58617754e-02]\n",
      " [-9.93372315e-01 -7.51191491e-01]\n",
      " [ 2.70367388e-01  4.94607583e-01]\n",
      " [-1.18475597e-01 -1.06988428e+00]\n",
      " [-1.09058306e+00  5.81523798e-01]\n",
      " [ 7.59458956e-02 -8.09135634e-01]\n",
      " [-9.93372315e-01  1.53760216e+00]\n",
      " [-7.01740076e-01  1.39274180e+00]\n",
      " [-1.28500455e+00  4.94607583e-01]\n",
      " [-3.12897090e-01  3.10544391e-02]\n",
      " [-1.18475597e-01  2.08236764e-03]\n",
      " [-3.12897090e-01 -8.96051849e-01]\n",
      " [ 8.53631867e-01 -1.35960499e+00]\n",
      " [-3.12897090e-01  2.23293187e+00]\n",
      " [ 9.50842613e-01  1.97218323e+00]\n",
      " [-1.18779381e+00  4.65635512e-01]\n",
      " [-1.28500455e+00  2.62831011e-01]\n",
      " [ 1.33968560e+00  1.97218323e+00]\n",
      " [ 1.24247485e+00 -1.35960499e+00]\n",
      " [-3.12897090e-01 -2.87638347e-01]\n",
      " [-5.07318583e-01  1.24788144e+00]\n",
      " [-7.98950822e-01  1.07404901e+00]\n",
      " [ 9.50842613e-01 -1.06988428e+00]\n",
      " [ 2.70367388e-01  2.91803083e-01]\n",
      " [ 9.50842613e-01  7.55356227e-01]\n",
      " [-7.01740076e-01 -1.50446535e+00]\n",
      " [-7.01740076e-01  3.10544391e-02]\n",
      " [ 4.64788881e-01  1.71143459e+00]\n",
      " [ 2.02016082e+00  1.75914797e-01]\n",
      " [-1.96547978e+00 -7.51191491e-01]\n",
      " [-2.15686344e-01  1.39274180e+00]\n",
      " [ 3.67578135e-01  5.81523798e-01]\n",
      " [ 8.53631867e-01 -1.15680049e+00]\n",
      " [-1.18779381e+00 -7.80163563e-01]\n",
      " [ 1.73156642e-01  2.33858940e-01]\n",
      " [ 7.56421121e-01 -3.16610419e-01]\n",
      " [ 2.02016082e+00 -8.09135634e-01]\n",
      " [ 7.56421121e-01  1.17970654e-01]\n",
      " [-3.12897090e-01  6.10495869e-01]\n",
      " [-9.93372315e-01 -3.16610419e-01]\n",
      " [ 1.73156642e-01 -3.74554562e-01]\n",
      " [ 2.02016082e+00  2.11704359e+00]\n",
      " [ 1.82573933e+00 -1.27268878e+00]\n",
      " [ 1.33968560e+00 -9.25023920e-01]\n",
      " [ 8.53631867e-01  1.24788144e+00]\n",
      " [ 1.43689635e+00  2.11704359e+00]\n",
      " [-3.12897090e-01 -1.24371671e+00]\n",
      " [ 1.92295008e+00  9.00216584e-01]\n",
      " [ 6.59210374e-01 -7.22219420e-01]\n",
      " [-1.47942605e+00  3.49747226e-01]\n",
      " [ 7.56421121e-01 -1.35960499e+00]\n",
      " [ 3.67578135e-01 -1.42777990e-01]\n",
      " [-9.93372315e-01  4.07691369e-01]\n",
      " [-2.12648508e-02 -3.16610419e-01]\n",
      " [-1.18779381e+00  4.07691369e-01]\n",
      " [-8.96161568e-01 -1.21474464e+00]\n",
      " [-1.18475597e-01  3.10544391e-02]\n",
      " [-1.57663679e+00 -4.32498705e-01]\n",
      " [ 9.50842613e-01 -1.01194013e+00]\n",
      " [ 1.04805336e+00 -1.21474464e+00]\n",
      " [-2.12648508e-02 -1.42777990e-01]\n",
      " [-1.09058306e+00 -1.53343742e+00]\n",
      " [ 7.56421121e-01 -1.21474464e+00]\n",
      " [ 9.50842613e-01  2.05909944e+00]\n",
      " [-1.18779381e+00 -1.53343742e+00]\n",
      " [-3.12897090e-01  7.84328298e-01]\n",
      " [ 7.59458956e-02 -3.16610419e-01]\n",
      " [-1.38221530e+00 -1.24371671e+00]\n",
      " [-6.04529329e-01 -1.50446535e+00]\n",
      " [ 7.56421121e-01  5.23579655e-01]\n",
      " [-3.12897090e-01 -3.45582490e-01]\n",
      " [ 1.72852858e+00 -2.87638347e-01]\n",
      " [ 8.53631867e-01 -1.04091221e+00]\n",
      " [ 1.73156642e-01  6.00265106e-02]\n",
      " [-6.04529329e-01  8.71244512e-01]\n",
      " [-1.86826903e+00 -1.41754914e+00]\n",
      " [-1.28500455e+00  5.81523798e-01]\n",
      " [-3.12897090e-01  5.23579655e-01]\n",
      " [-9.93372315e-01 -1.09885635e+00]\n",
      " [ 1.14526411e+00 -1.44652121e+00]\n",
      " [ 1.73156642e-01 -3.16610419e-01]\n",
      " [ 1.14526411e+00 -7.51191491e-01]\n",
      " [-3.12897090e-01  6.00265106e-02]\n",
      " [ 1.73156642e-01  2.08807152e+00]\n",
      " [ 7.56421121e-01 -1.09885635e+00]\n",
      " [ 7.59458956e-02  3.10544391e-02]\n",
      " [-1.77105829e+00  1.17970654e-01]\n",
      " [-8.96161568e-01  1.46942725e-01]\n",
      " [-7.01740076e-01  1.75914797e-01]\n",
      " [ 8.53631867e-01 -1.30166085e+00]\n",
      " [ 1.73156642e-01 -2.58666276e-01]\n",
      " [-4.10107836e-01  1.21890937e+00]\n",
      " [-2.12648508e-02  2.91803083e-01]\n",
      " [ 3.67578135e-01  1.46942725e-01]\n",
      " [ 8.53631867e-01 -6.64275277e-01]\n",
      " [ 7.59458956e-02  1.46942725e-01]\n",
      " [-1.86826903e+00 -1.30166085e+00]\n",
      " [-1.18475597e-01  2.91803083e-01]\n",
      " [-2.15686344e-01 -2.87638347e-01]\n",
      " [ 2.70367388e-01 -5.19414919e-01]\n",
      " [-2.15686344e-01  1.59554630e+00]\n",
      " [ 9.50842613e-01 -1.18577256e+00]\n",
      " [-2.15686344e-01  1.62451837e+00]\n",
      " [ 1.24247485e+00  1.85629494e+00]\n",
      " [-1.09058306e+00 -3.74554562e-01]\n",
      " [-2.12648508e-02  3.10544391e-02]\n",
      " [ 7.59458956e-02 -2.58666276e-01]\n",
      " [-1.57663679e+00 -1.24371671e+00]\n",
      " [-5.07318583e-01 -2.87638347e-01]\n",
      " [ 9.50842613e-01  1.17970654e-01]\n",
      " [ 1.92295008e+00 -1.35960499e+00]\n",
      " [ 1.43689635e+00  6.00265106e-02]\n",
      " [-6.04529329e-01  1.36376973e+00]\n",
      " [ 1.53410709e+00  2.08236764e-03]\n",
      " [-7.98950822e-01  2.91803083e-01]\n",
      " [ 1.92295008e+00  7.26384155e-01]\n",
      " [-1.18779381e+00 -5.19414919e-01]\n",
      " [ 6.59210374e-01  2.62831011e-01]\n",
      " [-1.38221530e+00 -4.32498705e-01]\n",
      " [ 1.73156642e-01  1.46942725e-01]\n",
      " [-5.07318583e-01 -1.21474464e+00]\n",
      " [ 5.61999628e-01  2.00115530e+00]\n",
      " [-1.57663679e+00 -1.50446535e+00]\n",
      " [-5.07318583e-01 -5.48386991e-01]\n",
      " [ 4.64788881e-01  1.82732287e+00]\n",
      " [-1.38221530e+00 -1.09885635e+00]\n",
      " [ 7.56421121e-01 -1.38857706e+00]\n",
      " [-3.12897090e-01 -4.32498705e-01]\n",
      " [ 1.53410709e+00  9.87132798e-01]\n",
      " [ 9.50842613e-01  1.42171387e+00]\n",
      " [-3.12897090e-01 -4.90442848e-01]\n",
      " [-1.18475597e-01  2.14601566e+00]\n",
      " [-1.47942605e+00 -1.13805918e-01]\n",
      " [-1.18475597e-01  1.94321116e+00]\n",
      " [-7.01740076e-01 -3.45582490e-01]\n",
      " [-5.07318583e-01 -8.38107706e-01]\n",
      " [ 6.59210374e-01 -1.38857706e+00]\n",
      " [-7.98950822e-01 -1.59138156e+00]\n",
      " [-1.86826903e+00 -1.47549328e+00]\n",
      " [ 1.04805336e+00  1.17970654e-01]\n",
      " [ 7.59458956e-02  1.50863009e+00]\n",
      " [-3.12897090e-01  8.89985821e-02]\n",
      " [ 7.59458956e-02  3.10544391e-02]\n",
      " [-1.38221530e+00 -1.35960499e+00]\n",
      " [ 2.70367388e-01  6.00265106e-02]\n",
      " [-8.96161568e-01  3.78719297e-01]\n",
      " [ 1.53410709e+00 -1.27268878e+00]\n",
      " [-3.12897090e-01 -7.51191491e-01]\n",
      " [-1.18475597e-01  1.46942725e-01]\n",
      " [-8.96161568e-01 -6.64275277e-01]\n",
      " [-7.01740076e-01 -5.58617754e-02]\n",
      " [ 3.67578135e-01 -4.61470776e-01]\n",
      " [-7.98950822e-01  1.88526701e+00]\n",
      " [ 1.33968560e+00  1.27685351e+00]\n",
      " [ 1.14526411e+00 -9.82968063e-01]\n",
      " [ 1.72852858e+00  1.82732287e+00]\n",
      " [-8.96161568e-01 -2.58666276e-01]\n",
      " [-7.98950822e-01  5.52551726e-01]\n",
      " [-1.18779381e+00 -1.56240949e+00]\n",
      " [-5.07318583e-01 -1.12782842e+00]\n",
      " [ 2.70367388e-01  6.00265106e-02]\n",
      " [-2.15686344e-01 -1.06988428e+00]\n",
      " [ 1.63131784e+00  1.59554630e+00]\n",
      " [ 9.50842613e-01  1.76937873e+00]\n",
      " [ 2.70367388e-01  3.10544391e-02]\n",
      " [-7.98950822e-01 -2.29694204e-01]\n",
      " [-1.18475597e-01  6.00265106e-02]\n",
      " [ 2.70367388e-01 -2.00722133e-01]\n",
      " [ 1.92295008e+00 -6.64275277e-01]\n",
      " [-7.98950822e-01  1.33479766e+00]\n",
      " [-1.77105829e+00 -6.06331134e-01]\n",
      " [-1.18475597e-01  1.17970654e-01]\n",
      " [ 2.70367388e-01 -3.16610419e-01]\n",
      " [ 1.04805336e+00  5.52551726e-01]\n",
      " [-9.93372315e-01  2.62831011e-01]\n",
      " [ 1.43689635e+00  3.49747226e-01]\n",
      " [ 1.73156642e-01 -3.74554562e-01]\n",
      " [ 2.11737157e+00 -1.04091221e+00]\n",
      " [-3.12897090e-01  1.10302108e+00]\n",
      " [-1.67384754e+00  6.00265106e-02]\n",
      " [-2.12648508e-02  3.10544391e-02]\n",
      " [ 7.59458956e-02  1.04507694e+00]\n",
      " [-1.18475597e-01 -3.74554562e-01]\n",
      " [-1.18779381e+00  6.00265106e-02]\n",
      " [-3.12897090e-01 -1.35960499e+00]\n",
      " [ 1.53410709e+00  1.10302108e+00]\n",
      " [-7.98950822e-01 -1.53343742e+00]\n",
      " [ 7.59458956e-02  1.85629494e+00]\n",
      " [-8.96161568e-01 -7.80163563e-01]\n",
      " [-5.07318583e-01 -7.80163563e-01]\n",
      " [-3.12897090e-01 -9.25023920e-01]\n",
      " [ 2.70367388e-01 -7.22219420e-01]\n",
      " [ 2.70367388e-01  6.00265106e-02]\n",
      " [ 7.59458956e-02  1.85629494e+00]\n",
      " [-1.09058306e+00  1.94321116e+00]\n",
      " [-1.67384754e+00 -1.56240949e+00]\n",
      " [-1.18779381e+00 -1.09885635e+00]\n",
      " [-7.01740076e-01 -1.13805918e-01]\n",
      " [ 7.59458956e-02  8.89985821e-02]\n",
      " [ 2.70367388e-01  2.62831011e-01]\n",
      " [ 8.53631867e-01 -5.77359062e-01]\n",
      " [ 2.70367388e-01 -1.15680049e+00]\n",
      " [-1.18475597e-01  6.68440012e-01]\n",
      " [ 2.11737157e+00 -6.93247348e-01]\n",
      " [-1.28500455e+00 -1.38857706e+00]\n",
      " [-9.93372315e-01 -9.53995992e-01]\n",
      " [-2.12648508e-02 -4.32498705e-01]\n",
      " [-2.15686344e-01 -4.61470776e-01]\n",
      " [-1.77105829e+00 -9.82968063e-01]\n",
      " [ 1.72852858e+00  9.87132798e-01]\n",
      " [ 1.73156642e-01 -3.74554562e-01]\n",
      " [ 3.67578135e-01  1.10302108e+00]\n",
      " [-1.77105829e+00 -1.35960499e+00]\n",
      " [ 1.73156642e-01 -1.42777990e-01]\n",
      " [ 8.53631867e-01 -1.44652121e+00]\n",
      " [-1.96547978e+00  4.65635512e-01]\n",
      " [-3.12897090e-01  2.62831011e-01]\n",
      " [ 1.82573933e+00 -1.06988428e+00]\n",
      " [-4.10107836e-01  6.00265106e-02]\n",
      " [ 1.04805336e+00 -8.96051849e-01]\n",
      " [-1.09058306e+00 -1.12782842e+00]\n",
      " [-1.86826903e+00  2.08236764e-03]\n",
      " [ 7.59458956e-02  2.62831011e-01]\n",
      " [-1.18779381e+00  3.20775154e-01]\n",
      " [-1.28500455e+00  2.91803083e-01]\n",
      " [-9.93372315e-01  4.36663440e-01]\n",
      " [ 1.63131784e+00 -8.96051849e-01]\n",
      " [ 1.14526411e+00  5.23579655e-01]\n",
      " [ 1.04805336e+00  5.23579655e-01]\n",
      " [ 1.33968560e+00  2.31984809e+00]\n",
      " [-3.12897090e-01 -1.42777990e-01]\n",
      " [ 3.67578135e-01 -4.61470776e-01]\n",
      " [-4.10107836e-01 -7.80163563e-01]\n",
      " [-1.18475597e-01 -5.19414919e-01]\n",
      " [ 9.50842613e-01 -1.15680049e+00]\n",
      " [-8.96161568e-01 -7.80163563e-01]\n",
      " [-2.15686344e-01 -5.19414919e-01]\n",
      " [-1.09058306e+00 -4.61470776e-01]\n",
      " [-1.18779381e+00  1.39274180e+00]]\n"
     ]
    }
   ],
   "source": [
    "print(x_train)"
   ]
  },
  {
   "cell_type": "code",
   "execution_count": 18,
   "id": "2ff3b8b2",
   "metadata": {},
   "outputs": [
    {
     "name": "stdout",
     "output_type": "stream",
     "text": [
      "[[-7.98950822e-01  4.94607583e-01]\n",
      " [-2.12648508e-02 -5.77359062e-01]\n",
      " [-3.12897090e-01  1.46942725e-01]\n",
      " [-7.98950822e-01  2.62831011e-01]\n",
      " [-3.12897090e-01 -5.77359062e-01]\n",
      " [-1.09058306e+00 -1.44652121e+00]\n",
      " [-7.01740076e-01 -1.59138156e+00]\n",
      " [-2.15686344e-01  2.14601566e+00]\n",
      " [-1.96547978e+00 -5.58617754e-02]\n",
      " [ 8.53631867e-01 -7.80163563e-01]\n",
      " [-7.98950822e-01 -6.06331134e-01]\n",
      " [-9.93372315e-01 -4.32498705e-01]\n",
      " [-1.18475597e-01 -4.32498705e-01]\n",
      " [ 7.59458956e-02  2.04886868e-01]\n",
      " [-1.77105829e+00  4.65635512e-01]\n",
      " [-6.04529329e-01  1.36376973e+00]\n",
      " [-1.18475597e-01  2.04886868e-01]\n",
      " [-1.86826903e+00  4.36663440e-01]\n",
      " [ 1.63131784e+00  1.74040666e+00]\n",
      " [-3.12897090e-01 -1.38857706e+00]\n",
      " [-3.12897090e-01 -6.64275277e-01]\n",
      " [ 8.53631867e-01  2.14601566e+00]\n",
      " [ 2.70367388e-01 -5.48386991e-01]\n",
      " [ 8.53631867e-01  1.01610487e+00]\n",
      " [-1.47942605e+00 -1.21474464e+00]\n",
      " [ 1.04805336e+00  2.05909944e+00]\n",
      " [-9.93372315e-01  4.94607583e-01]\n",
      " [-8.96161568e-01  2.91803083e-01]\n",
      " [-1.18475597e-01 -2.29694204e-01]\n",
      " [-6.04529329e-01  4.65635512e-01]\n",
      " [-1.67384754e+00  5.23579655e-01]\n",
      " [-1.18475597e-01  2.62831011e-01]\n",
      " [ 1.82573933e+00 -2.87638347e-01]\n",
      " [-1.18475597e-01 -4.90442848e-01]\n",
      " [-1.38221530e+00 -3.45582490e-01]\n",
      " [-1.96547978e+00 -5.19414919e-01]\n",
      " [-1.57663679e+00  3.20775154e-01]\n",
      " [-4.10107836e-01 -7.80163563e-01]\n",
      " [-7.01740076e-01 -1.04091221e+00]\n",
      " [ 1.04805336e+00 -9.82968063e-01]\n",
      " [-1.09058306e+00  5.23579655e-01]\n",
      " [ 2.70367388e-01 -5.19414919e-01]\n",
      " [-1.09058306e+00  4.07691369e-01]\n",
      " [-3.12897090e-01 -1.44652121e+00]\n",
      " [ 4.64788881e-01  1.21890937e+00]\n",
      " [-1.09058306e+00 -3.45582490e-01]\n",
      " [-1.18475597e-01  2.91803083e-01]\n",
      " [ 1.33968560e+00  5.81523798e-01]\n",
      " [-1.18779381e+00 -1.15680049e+00]\n",
      " [ 1.04805336e+00  4.65635512e-01]\n",
      " [ 1.82573933e+00  1.50863009e+00]\n",
      " [-4.10107836e-01 -1.30166085e+00]\n",
      " [-3.12897090e-01 -3.74554562e-01]\n",
      " [-4.10107836e-01  1.30582558e+00]\n",
      " [ 2.02016082e+00  5.23579655e-01]\n",
      " [ 6.59210374e-01 -1.09885635e+00]\n",
      " [-8.96161568e-01  3.78719297e-01]\n",
      " [-1.18779381e+00  2.91803083e-01]\n",
      " [ 1.04805336e+00 -1.21474464e+00]\n",
      " [-1.47942605e+00 -1.44652121e+00]\n",
      " [-6.04529329e-01 -1.50446535e+00]\n",
      " [ 2.11737157e+00 -8.09135634e-01]\n",
      " [-1.86826903e+00  1.75914797e-01]\n",
      " [-2.15686344e-01  8.42272441e-01]\n",
      " [-1.86826903e+00 -1.27268878e+00]\n",
      " [ 2.11737157e+00  3.78719297e-01]\n",
      " [-1.38221530e+00  5.52551726e-01]\n",
      " [-1.09058306e+00 -3.45582490e-01]\n",
      " [ 1.73156642e-01 -6.64275277e-01]\n",
      " [ 3.67578135e-01  2.08236764e-03]\n",
      " [-6.04529329e-01  2.31984809e+00]\n",
      " [-3.12897090e-01  2.04886868e-01]\n",
      " [-1.57663679e+00 -2.00722133e-01]\n",
      " [ 6.59210374e-01 -1.38857706e+00]\n",
      " [-1.09058306e+00  5.52551726e-01]\n",
      " [-1.96547978e+00  3.49747226e-01]\n",
      " [ 3.67578135e-01  2.62831011e-01]\n",
      " [ 1.73156642e-01 -2.87638347e-01]\n",
      " [ 1.43689635e+00 -1.04091221e+00]\n",
      " [ 8.53631867e-01  1.07404901e+00]]\n"
     ]
    }
   ],
   "source": [
    "print(x_test)"
   ]
  },
  {
   "cell_type": "markdown",
   "id": "3c66948a",
   "metadata": {},
   "source": [
    "# Model Selection"
   ]
  },
  {
   "cell_type": "code",
   "execution_count": 28,
   "id": "28cde127",
   "metadata": {},
   "outputs": [],
   "source": [
    "from sklearn.svm import SVC\n",
    "classifier =SVC(kernel='linear',random_state=0)\n"
   ]
  },
  {
   "cell_type": "markdown",
   "id": "c026b93b",
   "metadata": {},
   "source": [
    "# Traing the Model"
   ]
  },
  {
   "cell_type": "code",
   "execution_count": 29,
   "id": "41de8a26",
   "metadata": {},
   "outputs": [
    {
     "data": {
      "text/html": [
       "<style>#sk-container-id-2 {color: black;}#sk-container-id-2 pre{padding: 0;}#sk-container-id-2 div.sk-toggleable {background-color: white;}#sk-container-id-2 label.sk-toggleable__label {cursor: pointer;display: block;width: 100%;margin-bottom: 0;padding: 0.3em;box-sizing: border-box;text-align: center;}#sk-container-id-2 label.sk-toggleable__label-arrow:before {content: \"▸\";float: left;margin-right: 0.25em;color: #696969;}#sk-container-id-2 label.sk-toggleable__label-arrow:hover:before {color: black;}#sk-container-id-2 div.sk-estimator:hover label.sk-toggleable__label-arrow:before {color: black;}#sk-container-id-2 div.sk-toggleable__content {max-height: 0;max-width: 0;overflow: hidden;text-align: left;background-color: #f0f8ff;}#sk-container-id-2 div.sk-toggleable__content pre {margin: 0.2em;color: black;border-radius: 0.25em;background-color: #f0f8ff;}#sk-container-id-2 input.sk-toggleable__control:checked~div.sk-toggleable__content {max-height: 200px;max-width: 100%;overflow: auto;}#sk-container-id-2 input.sk-toggleable__control:checked~label.sk-toggleable__label-arrow:before {content: \"▾\";}#sk-container-id-2 div.sk-estimator input.sk-toggleable__control:checked~label.sk-toggleable__label {background-color: #d4ebff;}#sk-container-id-2 div.sk-label input.sk-toggleable__control:checked~label.sk-toggleable__label {background-color: #d4ebff;}#sk-container-id-2 input.sk-hidden--visually {border: 0;clip: rect(1px 1px 1px 1px);clip: rect(1px, 1px, 1px, 1px);height: 1px;margin: -1px;overflow: hidden;padding: 0;position: absolute;width: 1px;}#sk-container-id-2 div.sk-estimator {font-family: monospace;background-color: #f0f8ff;border: 1px dotted black;border-radius: 0.25em;box-sizing: border-box;margin-bottom: 0.5em;}#sk-container-id-2 div.sk-estimator:hover {background-color: #d4ebff;}#sk-container-id-2 div.sk-parallel-item::after {content: \"\";width: 100%;border-bottom: 1px solid gray;flex-grow: 1;}#sk-container-id-2 div.sk-label:hover label.sk-toggleable__label {background-color: #d4ebff;}#sk-container-id-2 div.sk-serial::before {content: \"\";position: absolute;border-left: 1px solid gray;box-sizing: border-box;top: 0;bottom: 0;left: 50%;z-index: 0;}#sk-container-id-2 div.sk-serial {display: flex;flex-direction: column;align-items: center;background-color: white;padding-right: 0.2em;padding-left: 0.2em;position: relative;}#sk-container-id-2 div.sk-item {position: relative;z-index: 1;}#sk-container-id-2 div.sk-parallel {display: flex;align-items: stretch;justify-content: center;background-color: white;position: relative;}#sk-container-id-2 div.sk-item::before, #sk-container-id-2 div.sk-parallel-item::before {content: \"\";position: absolute;border-left: 1px solid gray;box-sizing: border-box;top: 0;bottom: 0;left: 50%;z-index: -1;}#sk-container-id-2 div.sk-parallel-item {display: flex;flex-direction: column;z-index: 1;position: relative;background-color: white;}#sk-container-id-2 div.sk-parallel-item:first-child::after {align-self: flex-end;width: 50%;}#sk-container-id-2 div.sk-parallel-item:last-child::after {align-self: flex-start;width: 50%;}#sk-container-id-2 div.sk-parallel-item:only-child::after {width: 0;}#sk-container-id-2 div.sk-dashed-wrapped {border: 1px dashed gray;margin: 0 0.4em 0.5em 0.4em;box-sizing: border-box;padding-bottom: 0.4em;background-color: white;}#sk-container-id-2 div.sk-label label {font-family: monospace;font-weight: bold;display: inline-block;line-height: 1.2em;}#sk-container-id-2 div.sk-label-container {text-align: center;}#sk-container-id-2 div.sk-container {/* jupyter's `normalize.less` sets `[hidden] { display: none; }` but bootstrap.min.css set `[hidden] { display: none !important; }` so we also need the `!important` here to be able to override the default hidden behavior on the sphinx rendered scikit-learn.org. See: https://github.com/scikit-learn/scikit-learn/issues/21755 */display: inline-block !important;position: relative;}#sk-container-id-2 div.sk-text-repr-fallback {display: none;}</style><div id=\"sk-container-id-2\" class=\"sk-top-container\"><div class=\"sk-text-repr-fallback\"><pre>SVC(kernel=&#x27;linear&#x27;, random_state=0)</pre><b>In a Jupyter environment, please rerun this cell to show the HTML representation or trust the notebook. <br />On GitHub, the HTML representation is unable to render, please try loading this page with nbviewer.org.</b></div><div class=\"sk-container\" hidden><div class=\"sk-item\"><div class=\"sk-estimator sk-toggleable\"><input class=\"sk-toggleable__control sk-hidden--visually\" id=\"sk-estimator-id-2\" type=\"checkbox\" checked><label for=\"sk-estimator-id-2\" class=\"sk-toggleable__label sk-toggleable__label-arrow\">SVC</label><div class=\"sk-toggleable__content\"><pre>SVC(kernel=&#x27;linear&#x27;, random_state=0)</pre></div></div></div></div></div>"
      ],
      "text/plain": [
       "SVC(kernel='linear', random_state=0)"
      ]
     },
     "execution_count": 29,
     "metadata": {},
     "output_type": "execute_result"
    }
   ],
   "source": [
    "classifier.fit(x_train, y_train)  "
   ]
  },
  {
   "cell_type": "markdown",
   "id": "411820f4",
   "metadata": {},
   "source": [
    "# Testing the Model"
   ]
  },
  {
   "cell_type": "code",
   "execution_count": 30,
   "id": "6f4965f8",
   "metadata": {},
   "outputs": [],
   "source": [
    "y_pred=classifier.predict(x_test)"
   ]
  },
  {
   "cell_type": "code",
   "execution_count": 31,
   "id": "baa7df76",
   "metadata": {},
   "outputs": [
    {
     "name": "stdout",
     "output_type": "stream",
     "text": [
      "[0 0 0 0 0 0 0 1 0 0 0 0 0 0 0 0 0 0 1 0 0 1 0 1 0 1 0 0 0 0 0 0 1 0 0 0 0\n",
      " 0 0 0 0 0 0 0 1 0 0 1 0 1 1 0 0 0 1 0 0 0 0 0 0 1 0 0 0 1 0 0 0 0 1 0 0 0\n",
      " 0 0 1 0 1 1]\n"
     ]
    }
   ],
   "source": [
    "print(y_pred)"
   ]
  },
  {
   "cell_type": "markdown",
   "id": "3126d6ae",
   "metadata": {},
   "source": [
    "# Evaluation of Model"
   ]
  },
  {
   "cell_type": "code",
   "execution_count": 35,
   "id": "85a8206a",
   "metadata": {},
   "outputs": [
    {
     "name": "stdout",
     "output_type": "stream",
     "text": [
      "[[57  1]\n",
      " [ 6 16]]\n",
      "0.9125\n"
     ]
    }
   ],
   "source": [
    "from sklearn import metrics\n",
    "print(metrics.confusion_matrix(y_test,y_pred))\n",
    "print(metrics.accuracy_score(y_test,y_pred))"
   ]
  },
  {
   "cell_type": "markdown",
   "id": "6f88f7b1",
   "metadata": {},
   "source": [
    "# Visualization Data"
   ]
  },
  {
   "cell_type": "code",
   "execution_count": 33,
   "id": "37e3e8a5",
   "metadata": {},
   "outputs": [
    {
     "name": "stderr",
     "output_type": "stream",
     "text": [
      "C:\\Users\\Arigala.Adarsh\\anaconda3\\lib\\site-packages\\seaborn\\distributions.py:2619: FutureWarning: `distplot` is a deprecated function and will be removed in a future version. Please adapt your code to use either `displot` (a figure-level function with similar flexibility) or `kdeplot` (an axes-level function for kernel density plots).\n",
      "  warnings.warn(msg, FutureWarning)\n",
      "C:\\Users\\Arigala.Adarsh\\anaconda3\\lib\\site-packages\\seaborn\\distributions.py:2619: FutureWarning: `distplot` is a deprecated function and will be removed in a future version. Please adapt your code to use either `displot` (a figure-level function with similar flexibility) or `kdeplot` (an axes-level function for kernel density plots).\n",
      "  warnings.warn(msg, FutureWarning)\n"
     ]
    },
    {
     "data": {
      "image/png": "[encoded data removed]",
      "text/plain": [
       "<Figure size 640x480 with 1 Axes>"
      ]
     },
     "metadata": {},
     "output_type": "display_data"
    }
   ],
   "source": [
    "sns.distplot(y_test,hist=False,color=\"r\")\n",
    "sns.distplot(y_pred,hist=False,color=\"b\")\n",
    "plt.show()\n",
    " "
   ]
  },
  {
   "cell_type": "code",
   "execution_count": null,
   "id": "1a633b7e",
   "metadata": {},
   "outputs": [],
   "source": []
  },
  {
   "cell_type": "code",
   "execution_count": null,
   "id": "30372c8d",
   "metadata": {},
   "outputs": [],
   "source": []
  }
 ],
 "metadata": {
  "kernelspec": {
   "display_name": "Python 3 (ipykernel)",
   "language": "python",
   "name": "python3"
  },
  "language_info": {
   "codemirror_mode": {
    "name": "ipython",
    "version": 3
   },
   "file_extension": ".py",
   "mimetype": "text/x-python",
   "name": "python",
   "nbconvert_exporter": "python",
   "pygments_lexer": "ipython3",
   "version": "3.9.13"
  }
 },
 "nbformat": 4,
 "nbformat_minor": 5
}
